{
 "cells": [
  {
   "cell_type": "code",
   "execution_count": 1,
   "metadata": {},
   "outputs": [],
   "source": [
    "import cantools # use pip3 install cantools"
   ]
  },
  {
   "cell_type": "code",
   "execution_count": 2,
   "metadata": {},
   "outputs": [],
   "source": [
    "db = cantools.database.load_file('17/CANBus17.dbc')"
   ]
  },
  {
   "cell_type": "code",
   "execution_count": 3,
   "metadata": {},
   "outputs": [
    {
     "data": {
      "text/plain": [
       "[message('AEMEngine3', 0x1f0a003, True, 8, None),\n",
       " message('AEMEngine2', 0x1f0a002, True, 8, None),\n",
       " message('AEMEngine1', 0x1f0a001, True, 8, None),\n",
       " message('AEMEngine0', 0x1f0a000, True, 8, None)]"
      ]
     },
     "execution_count": 3,
     "metadata": {},
     "output_type": "execute_result"
    }
   ],
   "source": [
    "db.messages"
   ]
  },
  {
   "cell_type": "code",
   "execution_count": 14,
   "metadata": {},
   "outputs": [
    {
     "data": {
      "text/plain": [
       "message('AEMEngine3', 0x1f0a003, True, 8, None)"
      ]
     },
     "execution_count": 14,
     "metadata": {},
     "output_type": "execute_result"
    }
   ],
   "source": [
    "msg = db.get_message_by_name('AEMEngine3')\n",
    "msg"
   ]
  },
  {
   "cell_type": "code",
   "execution_count": 9,
   "metadata": {},
   "outputs": [
    {
     "data": {
      "text/plain": [
       "[signal('AFR1', 7, 8, 'big_endian', False, 0.057227, 7.325, 7.325, 21.917885, 'afr:AFR Gasoline', False, None, None, None),\n",
       " signal('VehicleSpeed', 23, 16, 'big_endian', False, 0.00390625, 0, 0, 255.99609375, 'speed:mph', False, None, None, None),\n",
       " signal('GearPosCalculated', 39, 8, 'big_endian', False, 1, 0, 0, 255, 'unitless:', False, None, None, None),\n",
       " signal('IgnitionTiming', 47, 8, 'big_endian', False, 0.35156, -17, -17, 72.65, 'angle:deg', False, None, None, None),\n",
       " signal('ECUBatteryVoltage', 55, 16, 'big_endian', False, 0.0002455, 0, 0, 16.089, 'voltage:V', False, None, None, None)]"
      ]
     },
     "execution_count": 9,
     "metadata": {},
     "output_type": "execute_result"
    }
   ],
   "source": [
    "msg.signals"
   ]
  },
  {
   "cell_type": "code",
   "execution_count": 13,
   "metadata": {},
   "outputs": [
    {
     "data": {
      "text/plain": [
       "b'/\\x00\\x00\\x00\\x010\\xde\\xc2'"
      ]
     },
     "execution_count": 13,
     "metadata": {},
     "output_type": "execute_result"
    }
   ],
   "source": [
    "b = msg.encode({'AFR1': 10, 'VehicleSpeed': 0, 'GearPosCalculated': 1, 'IgnitionTiming': 0, 'ECUBatteryVoltage': 14})\n",
    "b"
   ]
  },
  {
   "cell_type": "code",
   "execution_count": 16,
   "metadata": {},
   "outputs": [
    {
     "data": {
      "text/plain": [
       "{'AFR1': 10.014669,\n",
       " 'ECUBatteryVoltage': 13.999883,\n",
       " 'GearPosCalculated': 1,\n",
       " 'IgnitionTiming': -0.12512000000000256,\n",
       " 'VehicleSpeed': 0.0}"
      ]
     },
     "execution_count": 16,
     "metadata": {},
     "output_type": "execute_result"
    }
   ],
   "source": [
    "db.decode_message(msg.frame_id, b)"
   ]
  },
  {
   "cell_type": "code",
   "execution_count": null,
   "metadata": {},
   "outputs": [],
   "source": []
  }
 ],
 "metadata": {
  "kernelspec": {
   "display_name": "Python 3",
   "language": "python",
   "name": "python3"
  },
  "language_info": {
   "codemirror_mode": {
    "name": "ipython",
    "version": 3
   },
   "file_extension": ".py",
   "mimetype": "text/x-python",
   "name": "python",
   "nbconvert_exporter": "python",
   "pygments_lexer": "ipython3",
   "version": "3.6.2"
  }
 },
 "nbformat": 4,
 "nbformat_minor": 2
}
